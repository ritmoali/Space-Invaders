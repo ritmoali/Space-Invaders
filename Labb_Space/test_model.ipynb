{
 "cells": [
  {
   "cell_type": "code",
   "execution_count": null,
   "metadata": {},
   "outputs": [],
   "source": [
    "import keras\n",
    "import gymnasium as gym\n",
    "import ale_py\n",
    "from gymnasium.wrappers.frame_stack import FrameStack\n",
    "from gymnasium.wrappers.atari_preprocessing import AtariPreprocessing\n",
    "\n",
    "# Specific model file path\n",
    "model_file = \"/Users/rithwanali/Documents/Atari/Atari/models/spaceinvaders_qmodel_7549.keras\"\n",
    "\n",
    "# Register Atari environments\n",
    "gym.register_envs(ale_py)\n",
    "\n",
    "# Load the trained agent model\n",
    "agent = keras.models.load_model(model_file)\n",
    "\n",
    "# Create the Space Invaders environment\n",
    "env = gym.make(\"SpaceInvadersNoFrameskip-v4\", render_mode=\"human\")\n",
    "env = AtariPreprocessing(env)\n",
    "env = FrameStack(env, 4)\n",
    "\n",
    "# Reset the environment\n",
    "state, _ = env.reset()\n",
    "\n",
    "# Run the game\n",
    "done = False\n",
    "while not done:\n",
    "    # First convert to a tensor for compute efficiency\n",
    "    state_tensor = keras.ops.convert_to_tensor(state)\n",
    "    \n",
    "    # Shape of state is 4, 84, 84, but we need 84, 84, 4\n",
    "    state_tensor = keras.ops.transpose(state_tensor, [1, 2, 0])\n",
    "    \n",
    "    # Add batch dimension\n",
    "    state_tensor = keras.ops.expand_dims(state_tensor, 0)\n",
    "    \n",
    "    # Predict action probabilities\n",
    "    action_probs = agent(state_tensor, training=False)\n",
    "    \n",
    "    # Select the best action\n",
    "    action = keras.ops.argmax(action_probs[0]).numpy()\n",
    "    \n",
    "    # Take the action in the environment\n",
    "    state, reward, done, _, _ = env.step(action)\n",
    "\n",
    "# Close the environment when done\n",
    "env.close()"
   ]
  }
 ],
 "metadata": {
  "language_info": {
   "name": "python"
  }
 },
 "nbformat": 4,
 "nbformat_minor": 2
}
